{
 "cells": [
  {
   "cell_type": "markdown",
   "metadata": {},
   "source": [
    "# Numpy assignment\n",
    "\n",
    "Q1. Write a function to find moving average in an array over a window:\n",
    "Test it over [3, 5, 7, 2, 8, 10, 11, 65, 72, 81, 99, 100, 150] and window of 3."
   ]
  },
  {
   "cell_type": "code",
   "execution_count": 1,
   "metadata": {},
   "outputs": [],
   "source": [
    "import numpy as np"
   ]
  },
  {
   "cell_type": "code",
   "execution_count": 8,
   "metadata": {},
   "outputs": [],
   "source": [
    "a = np.array([3, 5, 7, 2, 8, 10, 11, 65, 72, 81, 99, 100, 150])\n",
    "window = 3"
   ]
  },
  {
   "cell_type": "code",
   "execution_count": 14,
   "metadata": {},
   "outputs": [],
   "source": [
    "def array(a,w):\n",
    "    for i in range(len(a)-3):\n",
    "        avg = int((a[i:i+4]/w).sum())\n",
    "        print(\"y{} : ({} + {} + {} + {})/{} = {}\".format(i,a[i],a[i+1],a[i+2],a[i+3],w,avg))"
   ]
  },
  {
   "cell_type": "code",
   "execution_count": 15,
   "metadata": {},
   "outputs": [
    {
     "name": "stdout",
     "output_type": "stream",
     "text": [
      "y0 : (3 + 5 + 7 + 2)/3 = 5\n",
      "y1 : (5 + 7 + 2 + 8)/3 = 7\n",
      "y2 : (7 + 2 + 8 + 10)/3 = 9\n",
      "y3 : (2 + 8 + 10 + 11)/3 = 10\n",
      "y4 : (8 + 10 + 11 + 65)/3 = 31\n",
      "y5 : (10 + 11 + 65 + 72)/3 = 52\n",
      "y6 : (11 + 65 + 72 + 81)/3 = 76\n",
      "y7 : (65 + 72 + 81 + 99)/3 = 105\n",
      "y8 : (72 + 81 + 99 + 100)/3 = 117\n",
      "y9 : (81 + 99 + 100 + 150)/3 = 143\n"
     ]
    }
   ],
   "source": [
    "array(a,window)"
   ]
  },
  {
   "cell_type": "code",
   "execution_count": null,
   "metadata": {},
   "outputs": [],
   "source": []
  }
 ],
 "metadata": {
  "kernelspec": {
   "display_name": "Python 3",
   "language": "python",
   "name": "python3"
  },
  "language_info": {
   "codemirror_mode": {
    "name": "ipython",
    "version": 3
   },
   "file_extension": ".py",
   "mimetype": "text/x-python",
   "name": "python",
   "nbconvert_exporter": "python",
   "pygments_lexer": "ipython3",
   "version": "3.7.6"
  }
 },
 "nbformat": 4,
 "nbformat_minor": 4
}
